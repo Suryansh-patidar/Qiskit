{
 "cells": [
  {
   "cell_type": "code",
   "execution_count": 4,
   "id": "ac5b1fcd",
   "metadata": {},
   "outputs": [
    {
     "name": "stdout",
     "output_type": "stream",
     "text": [
      "     ┌───┐                  ┌───┐     ┌─┐   \n",
      "q_0: ┤ H ├───────────────■──┤ H ├─────┤M├───\n",
      "     ├───┤┌───┐     ┌─┐  │  └───┘     └╥┘   \n",
      "q_1: ┤ H ├┤ H ├─────┤M├──┼─────────────╫────\n",
      "     ├───┤└───┘     └╥┘  │       ┌───┐ ║ ┌─┐\n",
      "q_2: ┤ H ├───────────╫───┼────■──┤ H ├─╫─┤M├\n",
      "     ├───┤┌───┐┌───┐ ║ ┌─┴─┐┌─┴─┐└───┘ ║ └╥┘\n",
      "q_3: ┤ H ├┤ X ├┤ H ├─╫─┤ X ├┤ X ├──────╫──╫─\n",
      "     └───┘└───┘└───┘ ║ └───┘└───┘      ║  ║ \n",
      "c: 3/════════════════╩═════════════════╩══╩═\n",
      "                     1                 0  2 \n"
     ]
    }
   ],
   "source": [
    "from qiskit import Aer, QuantumCircuit, transpile, assemble\n",
    "from qiskit.visualization import plot_histogram\n",
    "\n",
    "def deutsch_josza_algorithm(oracle):\n",
    "    # Create a quantum circuit with n+1 qubits where n is the number of qubits in the oracle\n",
    "    n = len(oracle)\n",
    "    circuit = QuantumCircuit(n+1, n)\n",
    "\n",
    "    # Apply Hadamard gate to the first n qubits and the X and H gates to the last qubit\n",
    "    circuit.h(range(n+1))\n",
    "    circuit.x(n)\n",
    "    circuit.h(n)\n",
    "\n",
    "    # Apply the quantum oracle\n",
    "    for qubit in range(n):\n",
    "        if oracle[qubit] == '1':\n",
    "            circuit.cx(qubit, n)\n",
    "\n",
    "    # Apply Hadamard gate to the first n qubits\n",
    "    circuit.h(range(n))\n",
    "\n",
    "    # Measure the first n qubits\n",
    "    circuit.measure(range(n), range(n))\n",
    "    print(circuit.draw())\n",
    "\n",
    "    # Transpile the circuit\n",
    "    transpiled_circuit = transpile(circuit, backend=Aer.get_backend('statevector_simulator'))\n",
    "\n",
    "# Run the transpiled circuit\n",
    "    backend = Aer.get_backend('statevector_simulator')\n",
    "    job = backend.run(transpiled_circuit, method='statevector')\n",
    "\n",
    "# Get the result\n",
    "    result = job.result()\n",
    "    final_state = result.get_statevector()\n",
    "    # Get the counts (measurement results) from the simulation\n",
    "    counts = result.get_counts(circuit)\n",
    "    return counts\n",
    "\n",
    "# Define the oracle for the Deutsch-Josza problem (balanced or constant function)\n",
    "# For example, let's consider a balanced function for a 3-qubit oracle\n",
    "oracle = '101'\n",
    "\n",
    "# Run the Deutsch-Josza algorithm with the defined oracle\n",
    "result = deutsch_josza_algorithm(oracle)\n",
    "\n",
    "\n"
   ]
  },
  {
   "cell_type": "code",
   "execution_count": null,
   "id": "7d6cb54d",
   "metadata": {},
   "outputs": [],
   "source": []
  }
 ],
 "metadata": {
  "kernelspec": {
   "display_name": "Python 3 (ipykernel)",
   "language": "python",
   "name": "python3"
  },
  "language_info": {
   "codemirror_mode": {
    "name": "ipython",
    "version": 3
   },
   "file_extension": ".py",
   "mimetype": "text/x-python",
   "name": "python",
   "nbconvert_exporter": "python",
   "pygments_lexer": "ipython3",
   "version": "3.11.3"
  }
 },
 "nbformat": 4,
 "nbformat_minor": 5
}
