{
 "cells": [
  {
   "cell_type": "code",
   "execution_count": 121,
   "id": "283ebd1e",
   "metadata": {},
   "outputs": [],
   "source": [
    "from qiskit import QuantumCircuit, Aer,assemble,transpile\n",
    "import numpy as np\n",
    "from qiskit.visualization import plot_histogram, plot_bloch_multivector\n",
    "from qiskit.visualization import *"
   ]
  },
  {
   "cell_type": "code",
   "execution_count": 122,
   "id": "e932d23f",
   "metadata": {},
   "outputs": [],
   "source": [
    "# Generalizing Q5 for n qubits\n",
    "def Quantum_Circuit(n):\n",
    "    qc = QuantumCircuit(n)\n",
    "    # Apply H-gate to the first:\n",
    "    qc.h(0)\n",
    "    for i in range(n-1):\n",
    "        qc.cx(i,i+1)\n",
    "    print(qc.draw())\n",
    "#     print(qc.draw())\n",
    "    # Transpile the circuit\n",
    "    transpiled_circuit = transpile(qc, backend=Aer.get_backend('statevector_simulator'))\n",
    "\n",
    "# Run the transpiled circuit\n",
    "    backend = Aer.get_backend('statevector_simulator')\n",
    "    job = backend.run(transpiled_circuit, method='statevector')\n",
    "\n",
    "# Get the result\n",
    "    result = job.result()\n",
    "    final_state = result.get_statevector()\n",
    "\n",
    "# Print the statevector neatly using array_to_latex\n",
    "    return  array_to_latex(final_state, prefix=\"\\\\text{Statevector = }\")\n",
    "  "
   ]
  },
  {
   "cell_type": "code",
   "execution_count": 123,
   "id": "1ecc415b",
   "metadata": {},
   "outputs": [
    {
     "name": "stdout",
     "output_type": "stream",
     "text": [
      "     ┌───┐          \n",
      "q_0: ┤ H ├──■───────\n",
      "     └───┘┌─┴─┐     \n",
      "q_1: ─────┤ X ├──■──\n",
      "          └───┘┌─┴─┐\n",
      "q_2: ──────────┤ X ├\n",
      "               └───┘\n"
     ]
    },
    {
     "data": {
      "text/latex": [
       "$$\n",
       "\\text{Statevector = }\n",
       "\\begin{bmatrix}\n",
       "\\frac{\\sqrt{2}}{2} & 0 & 0 & 0 & 0 & 0 & 0 & \\frac{\\sqrt{2}}{2}  \\\\\n",
       " \\end{bmatrix}\n",
       "$$"
      ],
      "text/plain": [
       "<IPython.core.display.Latex object>"
      ]
     },
     "execution_count": 123,
     "metadata": {},
     "output_type": "execute_result"
    }
   ],
   "source": [
    "Quantum_Circuit(3) # For 3 qubits\n"
   ]
  },
  {
   "cell_type": "code",
   "execution_count": 124,
   "id": "9d2e7384",
   "metadata": {},
   "outputs": [
    {
     "name": "stdout",
     "output_type": "stream",
     "text": [
      "     ┌───┐     \n",
      "q_0: ┤ H ├──■──\n",
      "     └───┘┌─┴─┐\n",
      "q_1: ─────┤ X ├\n",
      "          └───┘\n"
     ]
    },
    {
     "data": {
      "text/latex": [
       "$$\n",
       "\\text{Statevector = }\n",
       "\\begin{bmatrix}\n",
       "\\frac{\\sqrt{2}}{2} & 0 & 0 & \\frac{\\sqrt{2}}{2}  \\\\\n",
       " \\end{bmatrix}\n",
       "$$"
      ],
      "text/plain": [
       "<IPython.core.display.Latex object>"
      ]
     },
     "execution_count": 124,
     "metadata": {},
     "output_type": "execute_result"
    }
   ],
   "source": [
    "Quantum_Circuit(2) # For 2 qubits"
   ]
  },
  {
   "cell_type": "code",
   "execution_count": 125,
   "id": "5b1aafa4",
   "metadata": {},
   "outputs": [
    {
     "name": "stdout",
     "output_type": "stream",
     "text": [
      "     ┌───┐               \n",
      "q_0: ┤ H ├──■────────────\n",
      "     └───┘┌─┴─┐          \n",
      "q_1: ─────┤ X ├──■───────\n",
      "          └───┘┌─┴─┐     \n",
      "q_2: ──────────┤ X ├──■──\n",
      "               └───┘┌─┴─┐\n",
      "q_3: ───────────────┤ X ├\n",
      "                    └───┘\n"
     ]
    },
    {
     "data": {
      "text/latex": [
       "$$\n",
       "\\text{Statevector = }\n",
       "\\begin{bmatrix}\n",
       "\\frac{\\sqrt{2}}{2} & 0 & 0 & 0 & \\cdots & 0 & 0 & \\frac{\\sqrt{2}}{2}  \\\\\n",
       " \\end{bmatrix}\n",
       "$$"
      ],
      "text/plain": [
       "<IPython.core.display.Latex object>"
      ]
     },
     "execution_count": 125,
     "metadata": {},
     "output_type": "execute_result"
    }
   ],
   "source": [
    "Quantum_Circuit(4) # For 4 qubits"
   ]
  },
  {
   "cell_type": "code",
   "execution_count": 126,
   "id": "b790272b",
   "metadata": {},
   "outputs": [
    {
     "name": "stdout",
     "output_type": "stream",
     "text": [
      "     ┌───┐                    \n",
      "q_0: ┤ H ├──■─────────────────\n",
      "     └───┘┌─┴─┐               \n",
      "q_1: ─────┤ X ├──■────────────\n",
      "          └───┘┌─┴─┐          \n",
      "q_2: ──────────┤ X ├──■───────\n",
      "               └───┘┌─┴─┐     \n",
      "q_3: ───────────────┤ X ├──■──\n",
      "                    └───┘┌─┴─┐\n",
      "q_4: ────────────────────┤ X ├\n",
      "                         └───┘\n"
     ]
    },
    {
     "data": {
      "text/latex": [
       "$$\n",
       "\\text{Statevector = }\n",
       "\\begin{bmatrix}\n",
       "\\frac{\\sqrt{2}}{2} & 0 & 0 & 0 & \\cdots & 0 & 0 & \\frac{\\sqrt{2}}{2}  \\\\\n",
       " \\end{bmatrix}\n",
       "$$"
      ],
      "text/plain": [
       "<IPython.core.display.Latex object>"
      ]
     },
     "execution_count": 126,
     "metadata": {},
     "output_type": "execute_result"
    }
   ],
   "source": [
    "Quantum_Circuit(5) # For 5 qubits"
   ]
  },
  {
   "cell_type": "code",
   "execution_count": null,
   "id": "dbea0a15",
   "metadata": {},
   "outputs": [],
   "source": []
  }
 ],
 "metadata": {
  "kernelspec": {
   "display_name": "Python 3 (ipykernel)",
   "language": "python",
   "name": "python3"
  },
  "language_info": {
   "codemirror_mode": {
    "name": "ipython",
    "version": 3
   },
   "file_extension": ".py",
   "mimetype": "text/x-python",
   "name": "python",
   "nbconvert_exporter": "python",
   "pygments_lexer": "ipython3",
   "version": "3.11.3"
  }
 },
 "nbformat": 4,
 "nbformat_minor": 5
}
