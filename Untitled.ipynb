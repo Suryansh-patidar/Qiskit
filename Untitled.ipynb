{
 "cells": [
  {
   "cell_type": "code",
   "execution_count": 1,
   "id": "14eb8c05",
   "metadata": {},
   "outputs": [
    {
     "name": "stdout",
     "output_type": "stream",
     "text": [
      "Collecting git+https://github.com/qiskit-community/qiskit-textbook.git#subdirectory=qiskit-textbook-src\n",
      "  Cloning https://github.com/qiskit-community/qiskit-textbook.git to c:\\users\\surya\\appdata\\local\\temp\\pip-req-build-a3_4wd6d\n",
      "  Resolved https://github.com/qiskit-community/qiskit-textbook.git to commit 0ae905083ec3872d7ddc6bb4001d5468f476d93f\n",
      "  Preparing metadata (setup.py): started\n",
      "  Preparing metadata (setup.py): finished with status 'done'\n",
      "Requirement already satisfied: qiskit in c:\\users\\surya\\appdata\\local\\programs\\python\\python311\\lib\\site-packages (from qiskit-textbook==0.1.0) (0.43.2)\n",
      "Requirement already satisfied: ipython in c:\\users\\surya\\appdata\\local\\programs\\python\\python311\\lib\\site-packages (from qiskit-textbook==0.1.0) (8.7.0)\n",
      "Requirement already satisfied: ipywidgets in c:\\users\\surya\\appdata\\local\\programs\\python\\python311\\lib\\site-packages (from qiskit-textbook==0.1.0) (8.0.2)\n",
      "Requirement already satisfied: numpy in c:\\users\\surya\\appdata\\local\\programs\\python\\python311\\lib\\site-packages (from qiskit-textbook==0.1.0) (1.23.5)\n",
      "Requirement already satisfied: matplotlib in c:\\users\\surya\\appdata\\local\\programs\\python\\python311\\lib\\site-packages (from qiskit-textbook==0.1.0) (3.7.0)\n",
      "Collecting numexpr (from qiskit-textbook==0.1.0)\n",
      "  Using cached numexpr-2.8.4-cp311-cp311-win_amd64.whl (92 kB)\n",
      "Requirement already satisfied: backcall in c:\\users\\surya\\appdata\\local\\programs\\python\\python311\\lib\\site-packages (from ipython->qiskit-textbook==0.1.0) (0.2.0)\n",
      "Requirement already satisfied: decorator in c:\\users\\surya\\appdata\\local\\programs\\python\\python311\\lib\\site-packages (from ipython->qiskit-textbook==0.1.0) (5.1.1)\n",
      "Requirement already satisfied: jedi>=0.16 in c:\\users\\surya\\appdata\\local\\programs\\python\\python311\\lib\\site-packages (from ipython->qiskit-textbook==0.1.0) (0.18.2)\n",
      "Requirement already satisfied: matplotlib-inline in c:\\users\\surya\\appdata\\local\\programs\\python\\python311\\lib\\site-packages (from ipython->qiskit-textbook==0.1.0) (0.1.6)\n",
      "Requirement already satisfied: pickleshare in c:\\users\\surya\\appdata\\local\\programs\\python\\python311\\lib\\site-packages (from ipython->qiskit-textbook==0.1.0) (0.7.5)\n",
      "Requirement already satisfied: prompt-toolkit<3.1.0,>=3.0.11 in c:\\users\\surya\\appdata\\local\\programs\\python\\python311\\lib\\site-packages (from ipython->qiskit-textbook==0.1.0) (3.0.33)\n",
      "Requirement already satisfied: pygments>=2.4.0 in c:\\users\\surya\\appdata\\local\\programs\\python\\python311\\lib\\site-packages (from ipython->qiskit-textbook==0.1.0) (2.13.0)\n",
      "Requirement already satisfied: stack-data in c:\\users\\surya\\appdata\\local\\programs\\python\\python311\\lib\\site-packages (from ipython->qiskit-textbook==0.1.0) (0.6.2)\n",
      "Requirement already satisfied: traitlets>=5 in c:\\users\\surya\\appdata\\local\\programs\\python\\python311\\lib\\site-packages (from ipython->qiskit-textbook==0.1.0) (5.5.0)\n",
      "Requirement already satisfied: colorama in c:\\users\\surya\\appdata\\local\\programs\\python\\python311\\lib\\site-packages (from ipython->qiskit-textbook==0.1.0) (0.4.6)\n",
      "Requirement already satisfied: ipykernel>=4.5.1 in c:\\users\\surya\\appdata\\local\\programs\\python\\python311\\lib\\site-packages (from ipywidgets->qiskit-textbook==0.1.0) (6.18.1)\n",
      "Requirement already satisfied: widgetsnbextension~=4.0 in c:\\users\\surya\\appdata\\local\\programs\\python\\python311\\lib\\site-packages (from ipywidgets->qiskit-textbook==0.1.0) (4.0.3)\n",
      "Requirement already satisfied: jupyterlab-widgets~=3.0 in c:\\users\\surya\\appdata\\local\\programs\\python\\python311\\lib\\site-packages (from ipywidgets->qiskit-textbook==0.1.0) (3.0.3)\n",
      "Requirement already satisfied: contourpy>=1.0.1 in c:\\users\\surya\\appdata\\local\\programs\\python\\python311\\lib\\site-packages (from matplotlib->qiskit-textbook==0.1.0) (1.0.7)\n",
      "Requirement already satisfied: cycler>=0.10 in c:\\users\\surya\\appdata\\local\\programs\\python\\python311\\lib\\site-packages (from matplotlib->qiskit-textbook==0.1.0) (0.11.0)\n",
      "Requirement already satisfied: fonttools>=4.22.0 in c:\\users\\surya\\appdata\\local\\programs\\python\\python311\\lib\\site-packages (from matplotlib->qiskit-textbook==0.1.0) (4.38.0)\n",
      "Requirement already satisfied: kiwisolver>=1.0.1 in c:\\users\\surya\\appdata\\local\\programs\\python\\python311\\lib\\site-packages (from matplotlib->qiskit-textbook==0.1.0) (1.4.4)\n",
      "Requirement already satisfied: packaging>=20.0 in c:\\users\\surya\\appdata\\local\\programs\\python\\python311\\lib\\site-packages (from matplotlib->qiskit-textbook==0.1.0) (21.3)\n",
      "Requirement already satisfied: pillow>=6.2.0 in c:\\users\\surya\\appdata\\local\\programs\\python\\python311\\lib\\site-packages (from matplotlib->qiskit-textbook==0.1.0) (9.4.0)\n",
      "Requirement already satisfied: pyparsing>=2.3.1 in c:\\users\\surya\\appdata\\local\\programs\\python\\python311\\lib\\site-packages (from matplotlib->qiskit-textbook==0.1.0) (3.0.9)\n",
      "Requirement already satisfied: python-dateutil>=2.7 in c:\\users\\surya\\appdata\\local\\programs\\python\\python311\\lib\\site-packages (from matplotlib->qiskit-textbook==0.1.0) (2.8.2)\n",
      "Requirement already satisfied: qiskit-terra==0.24.1 in c:\\users\\surya\\appdata\\local\\programs\\python\\python311\\lib\\site-packages (from qiskit->qiskit-textbook==0.1.0) (0.24.1)\n",
      "Requirement already satisfied: qiskit-aer==0.12.1 in c:\\users\\surya\\appdata\\local\\programs\\python\\python311\\lib\\site-packages (from qiskit->qiskit-textbook==0.1.0) (0.12.1)\n",
      "Requirement already satisfied: qiskit-ibmq-provider==0.20.2 in c:\\users\\surya\\appdata\\local\\programs\\python\\python311\\lib\\site-packages (from qiskit->qiskit-textbook==0.1.0) (0.20.2)\n",
      "Requirement already satisfied: scipy>=1.0 in c:\\users\\surya\\appdata\\local\\programs\\python\\python311\\lib\\site-packages (from qiskit-aer==0.12.1->qiskit->qiskit-textbook==0.1.0) (1.10.1)\n",
      "Requirement already satisfied: requests>=2.19 in c:\\users\\surya\\appdata\\local\\programs\\python\\python311\\lib\\site-packages (from qiskit-ibmq-provider==0.20.2->qiskit->qiskit-textbook==0.1.0) (2.28.1)\n",
      "Requirement already satisfied: requests-ntlm<=1.1.0 in c:\\users\\surya\\appdata\\local\\programs\\python\\python311\\lib\\site-packages (from qiskit-ibmq-provider==0.20.2->qiskit->qiskit-textbook==0.1.0) (1.1.0)\n",
      "Requirement already satisfied: urllib3>=1.21.1 in c:\\users\\surya\\appdata\\local\\programs\\python\\python311\\lib\\site-packages (from qiskit-ibmq-provider==0.20.2->qiskit->qiskit-textbook==0.1.0) (1.26.13)\n",
      "Requirement already satisfied: websocket-client>=1.5.1 in c:\\users\\surya\\appdata\\local\\programs\\python\\python311\\lib\\site-packages (from qiskit-ibmq-provider==0.20.2->qiskit->qiskit-textbook==0.1.0) (1.6.1)\n",
      "Requirement already satisfied: websockets>=10.0 in c:\\users\\surya\\appdata\\local\\programs\\python\\python311\\lib\\site-packages (from qiskit-ibmq-provider==0.20.2->qiskit->qiskit-textbook==0.1.0) (11.0.3)\n",
      "Requirement already satisfied: rustworkx>=0.12.0 in c:\\users\\surya\\appdata\\local\\programs\\python\\python311\\lib\\site-packages (from qiskit-terra==0.24.1->qiskit->qiskit-textbook==0.1.0) (0.13.0)\n",
      "Requirement already satisfied: ply>=3.10 in c:\\users\\surya\\appdata\\local\\programs\\python\\python311\\lib\\site-packages (from qiskit-terra==0.24.1->qiskit->qiskit-textbook==0.1.0) (3.11)\n",
      "Requirement already satisfied: psutil>=5 in c:\\users\\surya\\appdata\\local\\programs\\python\\python311\\lib\\site-packages (from qiskit-terra==0.24.1->qiskit->qiskit-textbook==0.1.0) (5.9.4)\n",
      "Requirement already satisfied: sympy>=1.3 in c:\\users\\surya\\appdata\\local\\programs\\python\\python311\\lib\\site-packages (from qiskit-terra==0.24.1->qiskit->qiskit-textbook==0.1.0) (1.12)\n",
      "Requirement already satisfied: dill>=0.3 in c:\\users\\surya\\appdata\\local\\programs\\python\\python311\\lib\\site-packages (from qiskit-terra==0.24.1->qiskit->qiskit-textbook==0.1.0) (0.3.6)\n",
      "Requirement already satisfied: stevedore>=3.0.0 in c:\\users\\surya\\appdata\\local\\programs\\python\\python311\\lib\\site-packages (from qiskit-terra==0.24.1->qiskit->qiskit-textbook==0.1.0) (5.1.0)\n",
      "Requirement already satisfied: comm>=0.1 in c:\\users\\surya\\appdata\\local\\programs\\python\\python311\\lib\\site-packages (from ipykernel>=4.5.1->ipywidgets->qiskit-textbook==0.1.0) (0.1.1)\n",
      "Requirement already satisfied: debugpy>=1.0 in c:\\users\\surya\\appdata\\local\\programs\\python\\python311\\lib\\site-packages (from ipykernel>=4.5.1->ipywidgets->qiskit-textbook==0.1.0) (1.6.3)\n",
      "Requirement already satisfied: jupyter-client>=6.1.12 in c:\\users\\surya\\appdata\\local\\programs\\python\\python311\\lib\\site-packages (from ipykernel>=4.5.1->ipywidgets->qiskit-textbook==0.1.0) (7.4.7)\n",
      "Requirement already satisfied: nest-asyncio in c:\\users\\surya\\appdata\\local\\programs\\python\\python311\\lib\\site-packages (from ipykernel>=4.5.1->ipywidgets->qiskit-textbook==0.1.0) (1.5.6)\n",
      "Requirement already satisfied: pyzmq>=17 in c:\\users\\surya\\appdata\\local\\programs\\python\\python311\\lib\\site-packages (from ipykernel>=4.5.1->ipywidgets->qiskit-textbook==0.1.0) (24.0.1)\n",
      "Requirement already satisfied: tornado>=6.1 in c:\\users\\surya\\appdata\\local\\programs\\python\\python311\\lib\\site-packages (from ipykernel>=4.5.1->ipywidgets->qiskit-textbook==0.1.0) (6.2)\n",
      "Requirement already satisfied: parso<0.9.0,>=0.8.0 in c:\\users\\surya\\appdata\\local\\programs\\python\\python311\\lib\\site-packages (from jedi>=0.16->ipython->qiskit-textbook==0.1.0) (0.8.3)\n",
      "Requirement already satisfied: wcwidth in c:\\users\\surya\\appdata\\local\\programs\\python\\python311\\lib\\site-packages (from prompt-toolkit<3.1.0,>=3.0.11->ipython->qiskit-textbook==0.1.0) (0.2.5)\n",
      "Requirement already satisfied: six>=1.5 in c:\\users\\surya\\appdata\\local\\programs\\python\\python311\\lib\\site-packages (from python-dateutil>=2.7->matplotlib->qiskit-textbook==0.1.0) (1.16.0)\n",
      "Requirement already satisfied: executing>=1.2.0 in c:\\users\\surya\\appdata\\local\\programs\\python\\python311\\lib\\site-packages (from stack-data->ipython->qiskit-textbook==0.1.0) (1.2.0)\n",
      "Requirement already satisfied: asttokens>=2.1.0 in c:\\users\\surya\\appdata\\local\\programs\\python\\python311\\lib\\site-packages (from stack-data->ipython->qiskit-textbook==0.1.0) (2.1.0)\n",
      "Requirement already satisfied: pure-eval in c:\\users\\surya\\appdata\\local\\programs\\python\\python311\\lib\\site-packages (from stack-data->ipython->qiskit-textbook==0.1.0) (0.2.2)\n",
      "Requirement already satisfied: entrypoints in c:\\users\\surya\\appdata\\local\\programs\\python\\python311\\lib\\site-packages (from jupyter-client>=6.1.12->ipykernel>=4.5.1->ipywidgets->qiskit-textbook==0.1.0) (0.4)\n",
      "Requirement already satisfied: jupyter-core>=4.9.2 in c:\\users\\surya\\appdata\\local\\programs\\python\\python311\\lib\\site-packages (from jupyter-client>=6.1.12->ipykernel>=4.5.1->ipywidgets->qiskit-textbook==0.1.0) (5.1.0)\n",
      "Requirement already satisfied: charset-normalizer<3,>=2 in c:\\users\\surya\\appdata\\local\\programs\\python\\python311\\lib\\site-packages (from requests>=2.19->qiskit-ibmq-provider==0.20.2->qiskit->qiskit-textbook==0.1.0) (2.1.1)\n",
      "Requirement already satisfied: idna<4,>=2.5 in c:\\users\\surya\\appdata\\local\\programs\\python\\python311\\lib\\site-packages (from requests>=2.19->qiskit-ibmq-provider==0.20.2->qiskit->qiskit-textbook==0.1.0) (3.4)\n",
      "Requirement already satisfied: certifi>=2017.4.17 in c:\\users\\surya\\appdata\\local\\programs\\python\\python311\\lib\\site-packages (from requests>=2.19->qiskit-ibmq-provider==0.20.2->qiskit->qiskit-textbook==0.1.0) (2022.9.24)\n",
      "Requirement already satisfied: ntlm-auth>=1.0.2 in c:\\users\\surya\\appdata\\local\\programs\\python\\python311\\lib\\site-packages (from requests-ntlm<=1.1.0->qiskit-ibmq-provider==0.20.2->qiskit->qiskit-textbook==0.1.0) (1.5.0)\n",
      "Requirement already satisfied: cryptography>=1.3 in c:\\users\\surya\\appdata\\local\\programs\\python\\python311\\lib\\site-packages (from requests-ntlm<=1.1.0->qiskit-ibmq-provider==0.20.2->qiskit->qiskit-textbook==0.1.0) (41.0.1)\n",
      "Requirement already satisfied: pbr!=2.1.0,>=2.0.0 in c:\\users\\surya\\appdata\\local\\programs\\python\\python311\\lib\\site-packages (from stevedore>=3.0.0->qiskit-terra==0.24.1->qiskit->qiskit-textbook==0.1.0) (5.11.1)\n",
      "Requirement already satisfied: mpmath>=0.19 in c:\\users\\surya\\appdata\\local\\programs\\python\\python311\\lib\\site-packages (from sympy>=1.3->qiskit-terra==0.24.1->qiskit->qiskit-textbook==0.1.0) (1.3.0)\n",
      "Requirement already satisfied: cffi>=1.12 in c:\\users\\surya\\appdata\\local\\programs\\python\\python311\\lib\\site-packages (from cryptography>=1.3->requests-ntlm<=1.1.0->qiskit-ibmq-provider==0.20.2->qiskit->qiskit-textbook==0.1.0) (1.15.1)\n",
      "Requirement already satisfied: platformdirs>=2.5 in c:\\users\\surya\\appdata\\local\\programs\\python\\python311\\lib\\site-packages (from jupyter-core>=4.9.2->jupyter-client>=6.1.12->ipykernel>=4.5.1->ipywidgets->qiskit-textbook==0.1.0) (2.5.4)\n",
      "Requirement already satisfied: pywin32>=1.0 in c:\\users\\surya\\appdata\\local\\programs\\python\\python311\\lib\\site-packages (from jupyter-core>=4.9.2->jupyter-client>=6.1.12->ipykernel>=4.5.1->ipywidgets->qiskit-textbook==0.1.0) (305)\n",
      "Requirement already satisfied: pycparser in c:\\users\\surya\\appdata\\local\\programs\\python\\python311\\lib\\site-packages (from cffi>=1.12->cryptography>=1.3->requests-ntlm<=1.1.0->qiskit-ibmq-provider==0.20.2->qiskit->qiskit-textbook==0.1.0) (2.21)\n",
      "Building wheels for collected packages: qiskit-textbook\n",
      "  Building wheel for qiskit-textbook (setup.py): started\n",
      "  Building wheel for qiskit-textbook (setup.py): finished with status 'done'\n",
      "  Created wheel for qiskit-textbook: filename=qiskit_textbook-0.1.0-py3-none-any.whl size=17644 sha256=ffa81699ddc22c5ac1e9ffa8f6ff035909d08a515042fa6fd0c389b596c27882\n",
      "  Stored in directory: C:\\Users\\surya\\AppData\\Local\\Temp\\pip-ephem-wheel-cache-u0k3evwl\\wheels\\5a\\2a\\08\\67b54fc8407df4542bb0f23a3b063efaddaf6a37b48497b393\n",
      "Successfully built qiskit-textbook\n",
      "Installing collected packages: numexpr, qiskit-textbook\n",
      "Successfully installed numexpr-2.8.4 qiskit-textbook-0.1.0\n",
      "Note: you may need to restart the kernel to use updated packages.\n"
     ]
    },
    {
     "name": "stderr",
     "output_type": "stream",
     "text": [
      "  Running command git clone --filter=blob:none --quiet https://github.com/qiskit-community/qiskit-textbook.git 'C:\\Users\\surya\\AppData\\Local\\Temp\\pip-req-build-a3_4wd6d'\n"
     ]
    }
   ],
   "source": [
    "pip install git+https://github.com/qiskit-community/qiskit-textbook.git#subdirectory=qiskit-textbook-src"
   ]
  },
  {
   "cell_type": "code",
   "execution_count": 2,
   "id": "94eae2bd",
   "metadata": {},
   "outputs": [],
   "source": [
    "from qiskit import QuantumCircuit, assemble, Aer\n",
    "from qiskit.visualization import plot_histogram"
   ]
  },
  {
   "cell_type": "code",
   "execution_count": 3,
   "id": "1d819777",
   "metadata": {},
   "outputs": [
    {
     "data": {
      "application/vnd.jupyter.widget-view+json": {
       "model_id": "0c31f5aa54d44bcfb2d5e778c2069e37",
       "version_major": 2,
       "version_minor": 0
      },
      "text/plain": [
       "VBox(children=(Label(value='Toggle the bits below to change the binary number.'), Label(value='Think of a numb…"
      ]
     },
     "metadata": {},
     "output_type": "display_data"
    },
    {
     "data": {
      "application/vnd.jupyter.widget-view+json": {
       "model_id": "c7efa185c87f4e4ea0f031b7597d391a",
       "version_major": 2,
       "version_minor": 0
      },
      "text/plain": [
       "HTML(value='<pre>Binary   Decimal\\n 00000 = 0</pre>')"
      ]
     },
     "metadata": {},
     "output_type": "display_data"
    }
   ],
   "source": [
    "from qiskit_textbook.widgets import binary_widget\n",
    "binary_widget(nbits=5)"
   ]
  },
  {
   "cell_type": "code",
   "execution_count": null,
   "id": "be6aacd7",
   "metadata": {},
   "outputs": [],
   "source": []
  }
 ],
 "metadata": {
  "kernelspec": {
   "display_name": "Python 3 (ipykernel)",
   "language": "python",
   "name": "python3"
  },
  "language_info": {
   "codemirror_mode": {
    "name": "ipython",
    "version": 3
   },
   "file_extension": ".py",
   "mimetype": "text/x-python",
   "name": "python",
   "nbconvert_exporter": "python",
   "pygments_lexer": "ipython3",
   "version": "3.11.2"
  }
 },
 "nbformat": 4,
 "nbformat_minor": 5
}
